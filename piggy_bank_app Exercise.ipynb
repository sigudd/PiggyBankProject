{
 "cells": [
  {
   "cell_type": "markdown",
   "metadata": {},
   "source": [
    "## Piggy Bank Software\n",
    "\n",
    "We should create a piigy bank application for school children to teach them importance of savings.\n",
    "They should have the option to :\n",
    "\n",
    "* Add modeny \n",
    "* withdraw money\n",
    "* Check the current amount in the piggy bank"
   ]
  },
  {
   "cell_type": "code",
   "execution_count": null,
   "metadata": {},
   "outputs": [],
   "source": [
    "import piggy_bank"
   ]
  },
  {
   "cell_type": "markdown",
   "metadata": {},
   "source": [
    "## Assignment \n",
    "\n",
    "Develope an piggy bank application, which will work as per above instruction.\n"
   ]
  },
  {
   "cell_type": "code",
   "execution_count": null,
   "metadata": {},
   "outputs": [],
   "source": [
    "#Piggy Bank project\n"
   ]
  },
  {
   "cell_type": "code",
   "execution_count": 4,
   "metadata": {},
   "outputs": [],
   "source": [
    "def addMoney(addMny):\n",
    "    global money\n",
    "    global chkMny\n",
    "    #money=0\n",
    "    if(money>=0):\n",
    "        money=money+addMny\n",
    "        print('After Adding Your Updated Balance is :'+str(money))\n",
    "        chkMny=money\n",
    "        return money\n",
    "def withdrawMoney(wthMny):\n",
    "        global chkMny\n",
    "        if(money>=0):\n",
    "            withMny=money-wthMny\n",
    "            print('After Withdrawing Your Updated Balance is :'+str(withMny)) \n",
    "            chkMny=withMny\n",
    "            return withMny\n",
    "def chkMoney():\n",
    "    \n",
    "    print('Your Balance is :'+str(chkMny))\n",
    "    "
   ]
  },
  {
   "cell_type": "code",
   "execution_count": null,
   "metadata": {},
   "outputs": [
    {
     "name": "stdout",
     "output_type": "stream",
     "text": [
      "Start or End:Start\n",
      "Add , Withdraw or CheckAdd\n",
      "Add Money:1200\n",
      "After Adding Your Updated Balance is :1200\n",
      "Add , Withdraw or CheckAdd\n",
      "Add Money:1200\n",
      "After Adding Your Updated Balance is :2400\n",
      "Add , Withdraw or CheckWithdraw\n",
      "Withdraw Money:600\n",
      "After Withdrawing Your Updated Balance is :1800\n",
      "Add , Withdraw or CheckCheck\n",
      "Your Balance is :1800\n"
     ]
    }
   ],
   "source": [
    "money=0\n",
    "val=input('Start or End:')\n",
    "while val == ('Start'):\n",
    "    if(val == 'Start'):\n",
    "        chk=input('Add , Withdraw or Check')\n",
    "        if(chk == 'Add'):\n",
    "            addMny=int(input('Add Money:'))\n",
    "            addMoney(addMny)\n",
    "        elif(chk == 'Withdraw'):\n",
    "            wthMny=int(input('Withdraw Money:'))\n",
    "            withdrawMoney(wthMny)\n",
    "        else:\n",
    "            chkMoney()\n",
    "                "
   ]
  },
  {
   "cell_type": "code",
   "execution_count": null,
   "metadata": {},
   "outputs": [],
   "source": []
  },
  {
   "cell_type": "code",
   "execution_count": null,
   "metadata": {},
   "outputs": [],
   "source": []
  }
 ],
 "metadata": {
  "kernelspec": {
   "display_name": "Python 3",
   "language": "python",
   "name": "python3"
  },
  "language_info": {
   "codemirror_mode": {
    "name": "ipython",
    "version": 3
   },
   "file_extension": ".py",
   "mimetype": "text/x-python",
   "name": "python",
   "nbconvert_exporter": "python",
   "pygments_lexer": "ipython3",
   "version": "3.7.0"
  }
 },
 "nbformat": 4,
 "nbformat_minor": 2
}
